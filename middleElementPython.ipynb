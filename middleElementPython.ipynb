{
 "cells": [
  {
   "cell_type": "code",
   "execution_count": 10,
   "metadata": {},
   "outputs": [
    {
     "name": "stdout",
     "output_type": "stream",
     "text": [
      "Enter value of a: 4\n",
      "Enter value of b: 10\n"
     ]
    }
   ],
   "source": [
    "while True:\n",
    "    try:\n",
    "        a=input(\"Enter value of a: \")\n",
    "        b=input(\"Enter value of b: \")\n",
    "        a = int(a)\n",
    "        b = int(b)\n",
    "        break\n",
    "    except ValueError:\n",
    "        print(\"Error in input\")"
   ]
  },
  {
   "cell_type": "code",
   "execution_count": 13,
   "metadata": {},
   "outputs": [
    {
     "name": "stdout",
     "output_type": "stream",
     "text": [
      "6 8 "
     ]
    }
   ],
   "source": [
    "i = a + 1\n",
    "while(i<b):\n",
    "    if(i%2==0):\n",
    "        print(str(i), end=\" \")\n",
    "    i+=1\n",
    "\n"
   ]
  }
 ],
 "metadata": {
  "kernelspec": {
   "display_name": "Python 3",
   "language": "python",
   "name": "python3"
  },
  "language_info": {
   "codemirror_mode": {
    "name": "ipython",
    "version": 3
   },
   "file_extension": ".py",
   "mimetype": "text/x-python",
   "name": "python",
   "nbconvert_exporter": "python",
   "pygments_lexer": "ipython3",
   "version": "3.7.3"
  }
 },
 "nbformat": 4,
 "nbformat_minor": 2
}
